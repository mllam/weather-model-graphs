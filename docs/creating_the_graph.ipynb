{
 "cells": [
  {
   "attachments": {},
   "cell_type": "markdown",
   "metadata": {},
   "source": [
    "# Creating the graph\n",
    "\n",
    "Within graph-based weather models one single graph is used to represent the encode-process-decode operations of the data-driven weather model. The graph is a directed acyclic graph (DAG) with the nodes representing features at a given location in space and the edges representing flow of information.\n",
    "\n",
    "`weather-model-graphs` provides a framework for creating and visualising graphs for data-driven weather models. The framework is designed to be flexible and allow for the creation of a wide range of graph architectures.\n",
    "\n",
    "The graph is comprised of three components that represent the three encode-process-decode operations:\n",
    "\n",
    "- `g2m`: The encoding from the physical *grid* space onto the computational *mesh* space.\n",
    "- `m2m`: The processing of the data in the computational *mesh* space.\n",
    "- `m2g`: The decoding from the computational *mesh* space onto the physical *grid* space.\n",
    "\n",
    "The graph is a directed acyclic graph (DAG) with the nodes representing points in space and the edges "
   ]
  },
  {
   "cell_type": "markdown",
   "metadata": {},
   "source": [
    "# The grid nodes\n",
    "\n",
    "To get started we will create a set of fake grid nodes, which represent the geographical locations where we have values for the physical fields. We will here work with cartesian x/y coordinates. See [this page](./lat_lons.ipynb) for how to use lat/lon coordinates in weather-model-graphs."
   ]
  },
  {
   "cell_type": "code",
   "execution_count": null,
   "metadata": {},
   "outputs": [],
   "source": [
    "import numpy as np\n",
    "import matplotlib.pyplot as plt\n",
    "import weather_model_graphs as wmg"
   ]
  },
  {
   "cell_type": "code",
   "execution_count": null,
   "metadata": {},
   "outputs": [],
   "source": [
    "def _create_fake_xy(N=10):\n",
    "    x = np.linspace(0.0, N, N)\n",
    "    y = np.linspace(0.0, N, N)\n",
    "    xy_mesh = np.meshgrid(x, y)\n",
    "    xy = np.stack([mg_coord.flatten() for mg_coord in xy_mesh], axis=1)  # Shaped (N, 2)\n",
    "    return xy"
   ]
  },
  {
   "cell_type": "code",
   "execution_count": null,
   "metadata": {},
   "outputs": [],
   "source": [
    "xy = _create_fake_xy(32)\n",
    "\n",
    "fig, ax = plt.subplots()\n",
    "ax.scatter(xy[:, 0], xy[:, 1])\n",
    "ax.set_aspect(1)"
   ]
  },
  {
   "attachments": {},
   "cell_type": "markdown",
   "metadata": {},
   "source": [
    "# The mesh nodes and graph"
   ]
  },
  {
   "attachments": {},
   "cell_type": "markdown",
   "metadata": {},
   "source": [
    "Lets start with a simple mesh which only has nearest neighbour connections. At the moment `weather-model-graphs` creates a rectangular mesh that sits within the spatial domain spanned by the grid nodes (specifically within the axis-aligned bounding box of the grid nodes). Techniques for adding non-square meshes are in development."
   ]
  },
  {
   "cell_type": "code",
   "execution_count": null,
   "metadata": {},
   "outputs": [],
   "source": [
    "g_m2m = wmg.create.mesh.create_single_level_2d_mesh_graph(xy=xy, nx=12, ny=12)\n",
    "\n",
    "wmg.visualise.nx_draw_with_pos_and_attr(g_m2m)"
   ]
  },
  {
   "attachments": {},
   "cell_type": "markdown",
   "metadata": {},
   "source": [
    "# Graph archetypes\n",
    "\n",
    "To simplify the creation of the full *encode-process-decode* graph, the `weather-model-graphs` package contains implementations of a number of graph archetypes.\n",
    "These architypes principally differ in the way the mesh component of the graph is constructed, but also in the way the grid and mesh components are connected. As more approaches are developed they will be added to the library.\n"
   ]
  },
  {
   "attachments": {},
   "cell_type": "markdown",
   "metadata": {},
   "source": [
    "## The Keisler 2022 single-range mesh\n",
    "\n",
    "The first archetype is the single-range mesh from [Keisler 2022](https://arxiv.org/abs/2202.07575) which demonstrated that graph-based neural-netwoks can be used to predict the weather with similar accuracy to traditional numerical weather models. The mesh is a simple nearest-neighbour mesh with a single range of connections."
   ]
  },
  {
   "cell_type": "code",
   "execution_count": null,
   "metadata": {},
   "outputs": [],
   "source": [
    "?wmg.create.archetype.create_keisler_graph"
   ]
  },
  {
   "cell_type": "code",
   "execution_count": null,
   "metadata": {},
   "outputs": [],
   "source": [
    "graph = wmg.create.archetype.create_keisler_graph(coords=xy)\n",
    "graph"
   ]
  },
  {
   "cell_type": "code",
   "execution_count": null,
   "metadata": {},
   "outputs": [],
   "source": [
    "wmg.visualise.nx_draw_with_pos_and_attr(\n",
    "    graph, node_size=30, edge_color_attr=\"component\", node_color_attr=\"type\"\n",
    ")"
   ]
  },
  {
   "cell_type": "code",
   "execution_count": null,
   "metadata": {},
   "outputs": [],
   "source": [
    "graph_components = wmg.split_graph_by_edge_attribute(graph=graph, attr=\"component\")\n",
    "graph_components"
   ]
  },
  {
   "cell_type": "code",
   "execution_count": null,
   "metadata": {},
   "outputs": [],
   "source": [
    "n_components = len(graph_components)\n",
    "fig, axes = plt.subplots(nrows=n_components, ncols=1, figsize=(10, 9 * n_components))\n",
    "\n",
    "for (name, g), ax in zip(graph_components.items(), axes.flatten()):\n",
    "    pl_kwargs = {}\n",
    "    if name == \"m2m\":\n",
    "        pl_kwargs = dict(edge_color_attr=\"len\")\n",
    "    elif name == \"g2m\" or name == \"m2g\":\n",
    "        pl_kwargs = dict(edge_color_attr=\"len\", node_color_attr=\"type\")\n",
    "\n",
    "    wmg.visualise.nx_draw_with_pos_and_attr(graph=g, ax=ax, node_size=30, **pl_kwargs)\n",
    "    ax.set_title(name)"
   ]
  },
  {
   "attachments": {},
   "cell_type": "markdown",
   "metadata": {},
   "source": [
    "## GraphCast (Lam et al 2022) graph\n",
    "\n",
    "The second archetype is the GraphCast graph from [Lam et al 2022](https://arxiv.org/abs/2202.07575) which built on the Keisler 2022 graph by adding longer-range connections in the mesh component of the graph. This allows the model to capture both short and long-range spatial interactions."
   ]
  },
  {
   "cell_type": "code",
   "execution_count": null,
   "metadata": {},
   "outputs": [],
   "source": [
    "?wmg.create.archetype.create_graphcast_graph"
   ]
  },
  {
   "cell_type": "code",
   "execution_count": null,
   "metadata": {},
   "outputs": [],
   "source": [
    "graph = wmg.create.archetype.create_graphcast_graph(coords=xy)"
   ]
  },
  {
   "cell_type": "code",
   "execution_count": null,
   "metadata": {},
   "outputs": [],
   "source": [
    "wmg.visualise.nx_draw_with_pos_and_attr(\n",
    "    graph, node_size=30, edge_color_attr=\"component\", node_color_attr=\"type\"\n",
    ")"
   ]
  },
  {
   "cell_type": "code",
   "execution_count": null,
   "metadata": {},
   "outputs": [],
   "source": [
    "graph_components = wmg.split_graph_by_edge_attribute(graph=graph, attr=\"component\")\n",
    "graph_components"
   ]
  },
  {
   "cell_type": "code",
   "execution_count": null,
   "metadata": {},
   "outputs": [],
   "source": [
    "n_components = len(graph_components)\n",
    "fig, axes = plt.subplots(nrows=n_components, ncols=1, figsize=(10, 9 * n_components))\n",
    "\n",
    "for (name, g), ax in zip(graph_components.items(), axes.flatten()):\n",
    "    pl_kwargs = {}\n",
    "    if name == \"m2m\":\n",
    "        pl_kwargs = dict(edge_color_attr=\"len\", node_color_attr=\"level\", node_size=10)\n",
    "    elif name == \"g2m\" or name == \"m2g\":\n",
    "        pl_kwargs = dict(edge_color_attr=\"len\", node_color_attr=\"type\", node_size=30)\n",
    "\n",
    "    wmg.visualise.nx_draw_with_pos_and_attr(graph=g, ax=ax, **pl_kwargs)\n",
    "    ax.set_title(name)\n",
    "    ax.set_aspect(1.0)"
   ]
  },
  {
   "attachments": {},
   "cell_type": "markdown",
   "metadata": {},
   "source": [
    "## Oskarsson et al 2023 hierarchical graph"
   ]
  },
  {
   "cell_type": "markdown",
   "metadata": {},
   "source": [
    "The hierarchical graph from [Oskarsson et al 2023](https://arxiv.org/abs/2202.07575) builds on the GraphCast graph by adding a hierarchical structure to the mesh component of the graph. This allows the model to capture both short and long-range spatial interactions and to learn the spatial hierarchy of the data. The message-passing on different levels of interaction length-scales are learnt separately (rather than in a single pass) which allows the model to learn the spatial hierarchy of the data."
   ]
  },
  {
   "cell_type": "code",
   "execution_count": null,
   "metadata": {},
   "outputs": [],
   "source": [
    "?wmg.create.archetype.create_oskarsson_hierarchical_graph"
   ]
  },
  {
   "cell_type": "code",
   "execution_count": null,
   "metadata": {},
   "outputs": [],
   "source": [
    "graph = wmg.create.archetype.create_oskarsson_hierarchical_graph(coords=xy)\n",
    "graph"
   ]
  },
  {
   "cell_type": "code",
   "execution_count": null,
   "metadata": {},
   "outputs": [],
   "source": [
    "wmg.visualise.nx_draw_with_pos_and_attr(\n",
    "    graph, node_size=30, edge_color_attr=\"component\", node_color_attr=\"type\"\n",
    ")"
   ]
  },
  {
   "cell_type": "markdown",
   "metadata": {},
   "source": [
    "The hierarchical graph is a bit more complex, so we will not only split by the `g2m`, `m2m` and `m2g` components, but also further split the `m2m` component into the different directions that the edges form in the hierarchical mesh graph.\n",
    "Specifically, the `m2m` graph component will be split into three: 1) `m2m_up`, 2) `m2m_same` and 3) `m2m_down`, using the utility function\n",
    "`wmg.split_graph_by_edge_attribute(...)` to use the `direction` attribute that each of the nodes in the `m2m` graph components has. This makes it possible to visualise each of these parts of the graph separately:"
   ]
  },
  {
   "cell_type": "code",
   "execution_count": null,
   "metadata": {},
   "outputs": [],
   "source": [
    "graph_components = wmg.split_graph_by_edge_attribute(graph=graph, attr=\"component\")\n",
    "m2m_graph = graph_components.pop(\"m2m\")\n",
    "# we'll create an identifier for each m2m component so that we know that what part of the\n",
    "# m2m subgraph we're looking at\n",
    "m2m_graph_components = {\n",
    "    f\"m2m_{direction}\": graph\n",
    "    for direction, graph in wmg.split_graph_by_edge_attribute(\n",
    "        graph=m2m_graph, attr=\"direction\"\n",
    "    ).items()\n",
    "}\n",
    "graph_components.update(m2m_graph_components)\n",
    "graph_components"
   ]
  },
  {
   "cell_type": "code",
   "execution_count": null,
   "metadata": {},
   "outputs": [],
   "source": [
    "n_components = len(graph_components)\n",
    "fig, axes = plt.subplots(nrows=n_components, ncols=1, figsize=(10, 9 * n_components))\n",
    "\n",
    "for (name, graph), ax in zip(graph_components.items(), axes.flatten()):\n",
    "    pl_kwargs = {}\n",
    "    if name == \"m2m_same\":\n",
    "        pl_kwargs = dict(edge_color_attr=\"level\", node_color_attr=\"level\", node_size=10)\n",
    "    elif name == \"g2m\" or name == \"m2g\":\n",
    "        pl_kwargs = dict(edge_color_attr=\"len\", node_color_attr=\"type\", node_size=30)\n",
    "    elif name in [\"m2m_up\", \"m2m_down\"]:\n",
    "        pl_kwargs = dict(\n",
    "            edge_color_attr=\"levels\", node_color_attr=\"level\", node_size=30\n",
    "        )\n",
    "\n",
    "    wmg.visualise.nx_draw_with_pos_and_attr(graph, ax=ax, **pl_kwargs)\n",
    "    ax.set_title(name)\n",
    "    ax.set_aspect(1.0)"
   ]
  },
  {
   "cell_type": "markdown",
   "metadata": {},
   "source": [
    "Finally, we can repeat this with the `m2m_same` graph and split by level, so that we can see the connections in each hiearchical level of the graph separately:"
   ]
  },
  {
   "cell_type": "code",
   "execution_count": null,
   "metadata": {},
   "outputs": [],
   "source": [
    "m2m_same_graph = graph_components[\"m2m_same\"]\n",
    "# we'll create an identifier for each m2m component so that we know that what part of the\n",
    "# m2m subgraph we're looking at\n",
    "m2m_same_graph_components = {\n",
    "    f\"m2m_same_level_{level}\": graph\n",
    "    for level, graph in wmg.split_graph_by_edge_attribute(\n",
    "        graph=m2m_same_graph, attr=\"level\"\n",
    "    ).items()\n",
    "}\n",
    "m2m_same_graph_components"
   ]
  },
  {
   "cell_type": "code",
   "execution_count": null,
   "metadata": {},
   "outputs": [],
   "source": [
    "n_components = len(m2m_same_graph_components)\n",
    "fig, axes = plt.subplots(nrows=n_components, ncols=1, figsize=(10, 9 * n_components))\n",
    "\n",
    "for (name, graph), ax in zip(m2m_same_graph_components.items(), axes.flatten()):\n",
    "    wmg.visualise.nx_draw_with_pos_and_attr(graph, ax=ax)\n",
    "    ax.set_title(name)\n",
    "    ax.set_aspect(1.0)"
   ]
  },
  {
   "attachments": {},
   "cell_type": "markdown",
   "metadata": {},
   "source": [
    "# Creating your own graph architecture\n",
    "\n",
    "Instead of creating one of the archetype above, you can also create your own\n",
    "graph architecture.\n",
    "This can be done by calling the `create_all_graph_components` function and\n",
    "defining the `g2m`, `m2m` and `m2g` connectivity method (any arguments for\n",
    "each).\n",
    "\n",
    "Here we will only make nearest-neighbour connections in both directions between\n",
    "the mesh and grid nodes. As you will see below that leads to a graph that ignores\n",
    "most of the input from the grid nodes, so this is not a good graph architecture."
   ]
  },
  {
   "cell_type": "code",
   "execution_count": null,
   "metadata": {},
   "outputs": [],
   "source": [
    "graph = wmg.create.create_all_graph_components(\n",
    "    m2m_connectivity=\"flat_multiscale\",\n",
    "    coords=xy,\n",
    "    m2m_connectivity_kwargs=dict(\n",
    "        mesh_node_distance=2, level_refinement_factor=3, max_num_levels=None\n",
    "    ),\n",
    "    g2m_connectivity=\"nearest_neighbour\",\n",
    "    m2g_connectivity=\"nearest_neighbour\",\n",
    ")\n",
    "\n",
    "graph_components = wmg.split_graph_by_edge_attribute(graph=graph, attr=\"component\")"
   ]
  },
  {
   "cell_type": "code",
   "execution_count": null,
   "metadata": {},
   "outputs": [],
   "source": [
    "fig, axes = plt.subplots(nrows=3, ncols=1, figsize=(8, 24))\n",
    "\n",
    "for (name, graph), ax in zip(graph_components.items(), axes.flatten()):\n",
    "    pl_kwargs = {}\n",
    "    if name == \"m2m\":\n",
    "        pl_kwargs = dict(edge_color_attr=\"len\", node_color_attr=\"level\", node_size=10)\n",
    "    elif name == \"g2m\" or name == \"m2g\":\n",
    "        pl_kwargs = dict(edge_color_attr=\"len\", node_color_attr=\"type\", node_size=30)\n",
    "\n",
    "    wmg.visualise.nx_draw_with_pos_and_attr(graph, ax=ax, **pl_kwargs)\n",
    "    ax.set_title(name)\n",
    "    ax.set_aspect(1.0)"
   ]
  }
 ],
 "metadata": {
  "kernelspec": {
   "display_name": "Python 3 (ipykernel)",
   "language": "python",
   "name": "python3"
  },
  "language_info": {
   "codemirror_mode": {
    "name": "ipython",
    "version": 3
   },
   "file_extension": ".py",
   "mimetype": "text/x-python",
   "name": "python",
   "nbconvert_exporter": "python",
   "pygments_lexer": "ipython3",
   "version": "3.10.15"
  }
 },
 "nbformat": 4,
 "nbformat_minor": 4
}
