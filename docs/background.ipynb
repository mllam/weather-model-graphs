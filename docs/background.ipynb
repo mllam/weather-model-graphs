{
 "cells": [
  {
   "cell_type": "markdown",
   "metadata": {},
   "source": [
    "# Background\n",
    "\n",
    "> *this section provides an introduction to what graph-based data-driven weather models are and how they work. Inline code using `weather-model-graphs` is used to demonstrate different parts of the graph*\n",
    "\n",
    "Current graph-based weather models use the [encode-process-decode paradigm](https://arxiv.org/abs/1806.01261) on [message-passing graphs](https://arxiv.org/abs/1704.01212) to do the auto-regressive temporal prediction of the atmospheric weather state to produce a weather forecast. \n",
    "The graphs are directed acyclic graphs (DAGs) with the nodes representing features (physical variables) at a given location in space and the edges representing flow of information.\n",
    "The encode-process-decode paradigm is a three-step process that involves encoding the input data into a latent space, processing the latent space to make predictions, and decoding the predictions to produce the output data. \n",
    "\n",
    "## The graph nodes\n",
    "\n",
    "Using the nomenclature of [Lam et al 2022](https://arxiv.org/abs/2212.12794) the nodes in `weather-model-graphs` are split into two types:\n",
    "\n",
    "- **grid nodes**: representing the physical variables of the atmospheric state at a specific `(x,y)` coordinate in the (input) initial state to the model and the (output) prediction of the model\n",
    "\n",
    "- **mesh nodes**: representing the latent space of the model at specific `(x,y)` coordinate in the intermediate (latent) representation of the model"
   ]
  },
  {
   "cell_type": "code",
   "execution_count": null,
   "metadata": {},
   "outputs": [],
   "source": [
    "import numpy as np\n",
    "import weather_model_graphs as wmg\n",
    "\n",
    "# create some fake cartesian coordinates\n",
    "def _create_fake_xy(N=10):\n",
    "    x = np.linspace(0.0, N, N)\n",
    "    y = np.linspace(0.0, N, N)\n",
    "    xy_mesh = np.meshgrid(x, y)\n",
    "    xy = np.stack([mg_coord.flatten() for mg_coord in xy_mesh], axis=1)  # Shaped (N, 2)\n",
    "    return xy\n",
    "\n",
    "\n",
    "xy = _create_fake_xy(N=10)\n",
    "\n",
    "graph = wmg.create.archetype.create_keisler_graph(coords=xy)\n",
    "\n",
    "# remove all edges from the graph\n",
    "graph.remove_edges_from(list(graph.edges))\n",
    "\n",
    "ax = wmg.visualise.nx_draw_with_pos_and_attr(graph, node_color_attr=\"type\")"
   ]
  },
  {
   "cell_type": "markdown",
   "metadata": {},
   "source": [
    "As you can see in the code snippet above, the only input that graph generation in `weather-model-graphs` requires are the static `(x,y)` *grid* coordinates of the atmospheric state as the state changes over time. These coordinates are used to create the **grid nodes** nodes of the graph, with a node for each `(x,y)` coordinate.\n",
    "\n",
    "In addition to grid nodes the graph also contains **mesh nodes** that represent the latent space of the model at a set of `(x,y)` coordinates (this is in general a different set of coordinates to the **grid nodes** coordinates)."
   ]
  },
  {
   "cell_type": "markdown",
   "metadata": {},
   "source": [
    "## The graph edges\n",
    "\n",
    "With these two sets of nodes, the graph is constructed by connecting the **grid nodes** to the **mesh nodes** and the **mesh nodes** to each other.\n",
    "The edges between the **grid nodes** and the **mesh nodes** represent the encoding of the physical variables into the latent space of the model, while the edges between the **mesh nodes** represent the processing of the latent space through the time evolution of the atmospheric state.\n",
    "\n",
    "In summary, the complete message-passing graph consists of three components:\n",
    "\n",
    "- **grid-to-mesh** (`g2m`): the encoding compenent, where edges represent the encoding of physical variables into the latent space of the model\n",
    "\n",
    "- **mesh-to-mesh** (`m2m`): the processing component, where edges represent information flow between nodes updating the latent presentation at mesh nodes through the time evolution of the atmospheric state\n",
    "\n",
    "- **mesh-to-grid** (`m2g`): the decoding component, where edges represent the decoding of the latent space back into physical variables\n",
    "\n",
    "Practically, the **mesh-to-grid** and **grid-to-mesh** updates can probably also encode some of the time evolution processing, in addition to the latent space encoding/decoding, unless the GNN is trained specifically as an auto-encoder using the same graph as input and output."
   ]
  },
  {
   "cell_type": "code",
   "execution_count": null,
   "metadata": {},
   "outputs": [],
   "source": [
    "import matplotlib.pyplot as plt\n",
    "\n",
    "graph = wmg.create.archetype.create_keisler_graph(coords=xy, mesh_node_distance=2)\n",
    "graph_components = wmg.split_graph_by_edge_attribute(graph=graph, attr=\"component\")\n",
    "\n",
    "fig, axes = plt.subplots(nrows=1, ncols=3, figsize=(16, 5))\n",
    "\n",
    "for (name, graph), ax in zip(graph_components.items(), axes.flatten()):\n",
    "    pl_kwargs = {}\n",
    "    if name == \"m2m\":\n",
    "        pl_kwargs = dict(edge_color_attr=\"len\")\n",
    "    elif name == \"g2m\" or name == \"m2g\":\n",
    "        pl_kwargs = dict(edge_color_attr=\"len\", node_color_attr=\"type\")\n",
    "\n",
    "    wmg.visualise.nx_draw_with_pos_and_attr(graph, ax=ax, node_size=30, **pl_kwargs)\n",
    "    ax.set_title(name)"
   ]
  }
 ],
 "metadata": {
  "kernelspec": {
   "display_name": "Python 3 (ipykernel)",
   "language": "python",
   "name": "python3"
  },
  "language_info": {
   "codemirror_mode": {
    "name": "ipython",
    "version": 3
   },
   "file_extension": ".py",
   "mimetype": "text/x-python",
   "name": "python",
   "nbconvert_exporter": "python",
   "pygments_lexer": "ipython3",
   "version": "3.10.14"
  }
 },
 "nbformat": 4,
 "nbformat_minor": 4
}
